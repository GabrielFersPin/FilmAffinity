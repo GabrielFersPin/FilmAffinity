{
 "cells": [
  {
   "cell_type": "markdown",
   "metadata": {},
   "source": [
    "\n",
    "## Extract the 30 best movies from the action, comedy, drama and horror genres on FilmAffinity, as well as movies from 1980 onwards."
   ]
  },
  {
   "cell_type": "code",
   "execution_count": 2,
   "metadata": {},
   "outputs": [
    {
     "data": {
      "text/plain": [
       "[{'title': 'Men in Black',\n",
       "  'year': 'MIB',\n",
       "  'genre': 'action',\n",
       "  'actors': \"Tommy Lee Jones,, Will Smith,, Linda Fiorentino,, Vincent D'Onofrio,, Rip Torn\"},\n",
       " {'title': 'Sin City',\n",
       "  'year': \"Frank Miller's Sin City\",\n",
       "  'genre': 'action',\n",
       "  'actors': 'Bruce Willis,, Mickey Rourke,, Clive Owen,, Rosario Dawson,, Jessica Alba'},\n",
       " {'title': 'Men in Black',\n",
       "  'year': 'MIB',\n",
       "  'genre': 'comedy',\n",
       "  'actors': \"Tommy Lee Jones,, Will Smith,, Linda Fiorentino,, Vincent D'Onofrio,, Rip Torn\"}]"
      ]
     },
     "execution_count": 2,
     "metadata": {},
     "output_type": "execute_result"
    }
   ],
   "source": [
    "import requests\n",
    "from bs4 import BeautifulSoup\n",
    "\n",
    "# Empty list to store the information about the movies\n",
    "all_movies = []\n",
    "\n",
    "# Set of genres\n",
    "genres = {'action', 'comedy', 'drama', 'horror'}\n",
    "\n",
    "# Iterate over each genre\n",
    "for genre in genres:\n",
    "    # Build the URL for each genre\n",
    "    genre_url = f'https://www.filmaffinity.com/us/topgen.php?genres=%2B{genre[:2].upper()}&chv=0&orderby=rc&movietype=movie%7C&country=&fromyear=1980&toyear=2023&ratingcount=2&runtimemin=0&runtimemax=4'\n",
    "    \n",
    "    try:\n",
    "        # Make a GET request to the genre URL and get the page\n",
    "        req = requests.get(genre_url)\n",
    "        req.raise_for_status()  # Check if the request was successful\n",
    "\n",
    "        # Create a BeautifulSoup object to parse the HTML of the genre page\n",
    "        soup = BeautifulSoup(req.text, 'html.parser')\n",
    "        \n",
    "        # Find all movies on the genre page using the 'mc-title' class\n",
    "        for movie in soup.select('.mc-title'):\n",
    "            # Get the full title of the movie\n",
    "            full_title = movie.text.strip()\n",
    "\n",
    "            # Extract the title and year if they are available\n",
    "            try:\n",
    "                title, year = full_title.split(\"(\")\n",
    "                year = year.replace(\")\", \"\").strip()\n",
    "            except ValueError:\n",
    "                # Skip the entry if it doesn't have the expected format\n",
    "                continue\n",
    "\n",
    "            # Find the next div containing the cast using the 'mc-cast' class\n",
    "            cast_div = movie.find_next_sibling(class_='mc-cast')\n",
    "            actors = []\n",
    "            if cast_div:\n",
    "                # Get the names of the actors from the '.nb' elements within the cast div\n",
    "                actors = [actor.text.strip() for actor in cast_div.select('.nb') if actor.a]\n",
    "\n",
    "            # Add the movie information to the list of movies\n",
    "            all_movies.append({\n",
    "                \"title\": title.strip(),\n",
    "                \"year\": year,\n",
    "                \"genre\": genre,\n",
    "                \"actors\": \", \".join(actors)\n",
    "            })\n",
    "    \n",
    "    except requests.exceptions.RequestException as e:\n",
    "        print(f\"Error fetching data for genre {genre}: {e}\")\n",
    "\n",
    "# Return the complete list of collected movies\n",
    "all_movies\n"
   ]
  },
  {
   "cell_type": "code",
   "execution_count": 6,
   "metadata": {},
   "outputs": [
    {
     "name": "stdout",
     "output_type": "stream",
     "text": [
      "Error fetching page for genre action: 429\n",
      "Error fetching page for genre comedy: 429\n",
      "Error fetching page for genre drama: 429\n",
      "Error fetching page for genre horror: 429\n"
     ]
    }
   ],
   "source": [
    "import requests\n",
    "from bs4 import BeautifulSoup\n",
    "\n",
    "full_peliculas = []  # Lista vacía para almacenar la información de las películas\n",
    "generos = ['action', 'comedy', 'drama', 'horror']  # Lista de géneros\n",
    "\n",
    "# Iterar sobre cada género\n",
    "for genero in generos:\n",
    "    # Construir la URL para cada género\n",
    "    genre_url = f'https://www.filmaffinity.com/us/topgen.php?genres=%2B{genero[:2].upper()}&chv=0&orderby=rc&movietype=movie%7C&country=&fromyear=1980&toyear=2023&ratingcount=2&runtimemin=0&runtimemax=4'\n",
    "    \n",
    "    # Realizar una solicitud GET a la URL del género y obtener la página\n",
    "    req = requests.get(genre_url)\n",
    "    if req.status_code != 200:  # Verificar que la solicitud fue exitosa\n",
    "        print(f\"Error fetching page for genre {genero}: {req.status_code}\")\n",
    "        continue\n",
    "\n",
    "    # Crear un objeto BeautifulSoup para analizar el HTML de la página del género\n",
    "    soup = BeautifulSoup(req.text, 'html.parser')\n",
    "    \n",
    "    # Encontrar todas las películas en la página del género\n",
    "    peliculas = soup.select('.mc-title')\n",
    "\n",
    "    # Extraer información de las películas\n",
    "    for pelicula in peliculas:\n",
    "        # Obtener el título de la película\n",
    "        titulo = pelicula.text.strip()\n",
    "        \n",
    "        # Encontrar el div siguiente que contiene el reparto\n",
    "        cast_div = pelicula.find_next_sibling(class_='mc-cast')\n",
    "        \n",
    "        # Obtener los nombres de los actores\n",
    "        actores = [actor.text.strip() for actor in cast_div.select('.nb') if actor.a]\n",
    "        \n",
    "        # Agregar la información de la película a la lista de películas\n",
    "        full_peliculas.append({\n",
    "            \"title\": titulo.split(\"(\")[0].strip(),  # Título de la película\n",
    "            \"year\": titulo.split(\"(\")[1].strip().replace(\")\", \"\"),  # Año de la película\n",
    "            \"genre\": genero,  # Género de la película\n",
    "            \"actors\": \", \".join(actores)  # Lista de actores de la película\n",
    "        })\n",
    "\n",
    "# Devolver la lista completa de películas recolectadas\n",
    "for i, pelicula in enumerate(full_peliculas, 1):\n",
    "    print(f\"{i}. Title: {pelicula['title']}, Year: {pelicula['year']}, Genre: {pelicula['genre']}, Actors: {pelicula['actors']}\")\n"
   ]
  },
  {
   "cell_type": "markdown",
   "metadata": {},
   "source": [
    "## Save the list of all movies as a csv file."
   ]
  },
  {
   "cell_type": "code",
   "execution_count": 3,
   "metadata": {},
   "outputs": [
    {
     "name": "stdout",
     "output_type": "stream",
     "text": [
      "Data successfully written to movies.csv\n"
     ]
    }
   ],
   "source": [
    "import csv\n",
    "\n",
    "# Specify the filename\n",
    "filename = \"movies.csv\"\n",
    "\n",
    "# Define the header based on the dictionary keys in all_movies\n",
    "header = [\"title\", \"year\", \"genre\", \"actors\"]\n",
    "\n",
    "# Write the data to a CSV file\n",
    "with open(filename, mode=\"w\", newline=\"\", encoding=\"utf-8\") as file:\n",
    "    writer = csv.DictWriter(file, fieldnames=header)\n",
    "    writer.writeheader()  # Write the header\n",
    "    writer.writerows(all_movies)  # Write each movie as a row\n",
    "\n",
    "print(f\"Data successfully written to {filename}\")\n"
   ]
  }
 ],
 "metadata": {
  "kernelspec": {
   "display_name": "Python 3",
   "language": "python",
   "name": "python3"
  },
  "language_info": {
   "codemirror_mode": {
    "name": "ipython",
    "version": 3
   },
   "file_extension": ".py",
   "mimetype": "text/x-python",
   "name": "python",
   "nbconvert_exporter": "python",
   "pygments_lexer": "ipython3",
   "version": "3.12.1"
  }
 },
 "nbformat": 4,
 "nbformat_minor": 2
}
